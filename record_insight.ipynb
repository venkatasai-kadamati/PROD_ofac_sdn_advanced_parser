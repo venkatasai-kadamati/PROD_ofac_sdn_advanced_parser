{
 "cells": [
  {
   "cell_type": "code",
   "execution_count": 32,
   "metadata": {},
   "outputs": [
    {
     "name": "stdout",
     "output_type": "stream",
     "text": [
      "Index(['FixedRef', 'AliasTypeID', 'Primary', 'LowQuality', 'ParentRef',\n",
      "       'DocumentedNameID', 'NamePartValue', 'NamePartGroupID',\n",
      "       'DocNameStatusID', 'ScriptID', 'Acronym'],\n",
      "      dtype='object')\n",
      "no of column entries :  11\n"
     ]
    }
   ],
   "source": [
    "import pandas as pd\n",
    "\n",
    "# Load the CSV file into a pandas DataFrame\n",
    "df_alias = pd.read_csv('aliases.csv')\n",
    "\n",
    "print(df_alias.columns)\n",
    "print(\"no of column entries : \", len(df_alias.columns))"
   ]
  },
  {
   "cell_type": "code",
   "execution_count": 33,
   "metadata": {},
   "outputs": [
    {
     "name": "stdout",
     "output_type": "stream",
     "text": [
      "       ScriptID Script-Description  AliasTypeID Alias-Description\n",
      "0           215              Latin         1403              Name\n",
      "1           215              Latin         1400            A.K.A.\n",
      "2           215              Latin         1403              Name\n",
      "3           215              Latin         1400            A.K.A.\n",
      "4           215              Latin         1403              Name\n",
      "...         ...                ...          ...               ...\n",
      "35880       215              Latin         1403              Name\n",
      "35881       215              Latin         1403              Name\n",
      "35882       215              Latin         1403              Name\n",
      "35883       215              Latin         1403              Name\n",
      "35884       215              Latin         1403              Name\n",
      "\n",
      "[35885 rows x 4 columns]\n"
     ]
    }
   ],
   "source": [
    "import pandas as pd\n",
    "\n",
    "# Assuming df is your DataFrame loaded from the CSV file\n",
    "\n",
    "# Define the script mapping for ScriptID to descriptions\n",
    "script_mapping = {\n",
    "    160: \"Arabic\",\n",
    "    230: \"Armenian\",\n",
    "    501: \"Chinese Simplified\",\n",
    "    502: \"Chinese Traditional\",\n",
    "    220: \"Cyrillic\",\n",
    "    240: \"Georgian\",\n",
    "    200: \"Greek\",\n",
    "    125: \"Hebrew\",\n",
    "    413: \"Japanese\",\n",
    "    215: \"Latin\",\n",
    "    287: \"Korean\"\n",
    "}\n",
    "\n",
    "alias_type_mapping = {\n",
    "    1400: \"A.K.A.\",\n",
    "    1401: \"F.K.A.\",\n",
    "    1402: \"N.K.A.\",\n",
    "    1403: \"Name\"\n",
    "}\n",
    "\n",
    "doc_name_status_mapping = {\n",
    "    1: \"Primary Latin\",\n",
    "    2: \"Others\"\n",
    "}\n",
    "\n",
    "# Convert ScriptID to int if it's not already (optional, based on your data)\n",
    "df_alias['ScriptID'] = df_alias['ScriptID'].astype(int)\n",
    "\n",
    "# Apply the mapping to create the 'Script-Description' column\n",
    "df_alias['Script-Description'] = df_alias['ScriptID'].map(script_mapping)\n",
    "\n",
    "# Fill NaN values with a default value if needed\n",
    "df_alias['Script-Description'] = df_alias['Script-Description'].fillna('Unknown Script')\n",
    "\n",
    "# Apply the mapping to create the 'Script-Description' column\n",
    "df_alias['Alias-Description'] = df_alias['AliasTypeID'].map(alias_type_mapping)\n",
    "\n",
    "# Fill NaN values with a default value if needed\n",
    "df_alias['Alias-Description'] = df_alias['Alias-Description'].fillna('Unknown Script')\n",
    "\n",
    "# Apply the mapping to create the 'Script-Description' column\n",
    "df_alias['Script-Description'] = df_alias['ScriptID'].map(script_mapping)\n",
    "\n",
    "# Fill NaN values with a default value if needed\n",
    "df_alias['Script-Description'] = df_alias['Script-Description'].fillna('Unknown Script')\n",
    "# Display the updated DataFrame to verify the transformation\n",
    "print(df_alias[['ScriptID', 'Script-Description', 'AliasTypeID','Alias-Description']])"
   ]
  },
  {
   "cell_type": "code",
   "execution_count": null,
   "metadata": {},
   "outputs": [],
   "source": [
    "df_alias.to_csv('/generated_csv/output.csv', index=False)\n"
   ]
  }
 ],
 "metadata": {
  "kernelspec": {
   "display_name": "Python 3",
   "language": "python",
   "name": "python3"
  },
  "language_info": {
   "codemirror_mode": {
    "name": "ipython",
    "version": 3
   },
   "file_extension": ".py",
   "mimetype": "text/x-python",
   "name": "python",
   "nbconvert_exporter": "python",
   "pygments_lexer": "ipython3",
   "version": "3.12.2"
  }
 },
 "nbformat": 4,
 "nbformat_minor": 2
}
